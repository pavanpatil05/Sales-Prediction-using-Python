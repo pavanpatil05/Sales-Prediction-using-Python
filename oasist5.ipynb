{
  "nbformat": 4,
  "nbformat_minor": 0,
  "metadata": {
    "colab": {
      "provenance": []
    },
    "kernelspec": {
      "name": "python3",
      "display_name": "Python 3"
    },
    "language_info": {
      "name": "python"
    }
  },
  "cells": [
    {
      "cell_type": "code",
      "execution_count": 1,
      "metadata": {
        "colab": {
          "base_uri": "https://localhost:8080/"
        },
        "id": "YP2M8eTmKUj5",
        "outputId": "caa17a53-7364-43bc-ebba-4ee53dbf97db"
      },
      "outputs": [
        {
          "output_type": "stream",
          "name": "stdout",
          "text": [
            "Dataset Preview:\n",
            "    Unnamed: 0     TV  Radio  Newspaper  Sales\n",
            "0           1  230.1   37.8       69.2   22.1\n",
            "1           2   44.5   39.3       45.1   10.4\n",
            "2           3   17.2   45.9       69.3    9.3\n",
            "3           4  151.5   41.3       58.5   18.5\n",
            "4           5  180.8   10.8       58.4   12.9\n",
            "\n",
            "Missing Values:\n",
            " Unnamed: 0    0\n",
            "TV            0\n",
            "Radio         0\n",
            "Newspaper     0\n",
            "Sales         0\n",
            "dtype: int64\n",
            "\n",
            "Model Evaluation:\n",
            "Mean Squared Error (MSE): 3.17\n",
            "R-squared (R2 Score): 0.90\n",
            "\n",
            "Model Coefficients:\n",
            "      Feature  Coefficient\n",
            "0         TV     0.044730\n",
            "1      Radio     0.189195\n",
            "2  Newspaper     0.002761\n",
            "\n",
            "Predicted Sales for New Data: 40.44\n"
          ]
        }
      ],
      "source": [
        "# Import necessary libraries\n",
        "import pandas as pd\n",
        "import numpy as np\n",
        "from sklearn.model_selection import train_test_split\n",
        "from sklearn.linear_model import LinearRegression\n",
        "from sklearn.metrics import mean_squared_error, r2_score\n",
        "\n",
        "# Load the dataset (replace 'sales_data.csv' with the actual file path)\n",
        "# Assume the dataset has columns: TV, Radio, Newspaper, and Sales\n",
        "data = pd.read_csv('Advertising.csv')\n",
        "\n",
        "# Display the first few rows of the dataset\n",
        "print(\"Dataset Preview:\\n\", data.head())\n",
        "\n",
        "# Check for missing values\n",
        "print(\"\\nMissing Values:\\n\", data.isnull().sum())\n",
        "\n",
        "# Define the feature matrix (X) and target variable (y)\n",
        "X = data[['TV', 'Radio', 'Newspaper']]  # Advertising budgets\n",
        "y = data['Sales']  # Sales\n",
        "\n",
        "# Split the data into training and testing sets\n",
        "X_train, X_test, y_train, y_test = train_test_split(X, y, test_size=0.2, random_state=42)\n",
        "\n",
        "# Initialize and train the linear regression model\n",
        "model = LinearRegression()\n",
        "model.fit(X_train, y_train)\n",
        "\n",
        "# Predict sales on the test set\n",
        "y_pred = model.predict(X_test)\n",
        "\n",
        "# Evaluate the model\n",
        "mse = mean_squared_error(y_test, y_pred)\n",
        "r2 = r2_score(y_test, y_pred)\n",
        "\n",
        "print(\"\\nModel Evaluation:\")\n",
        "print(f\"Mean Squared Error (MSE): {mse:.2f}\")\n",
        "print(f\"R-squared (R2 Score): {r2:.2f}\")\n",
        "\n",
        "# Display the coefficients\n",
        "coefficients = pd.DataFrame({'Feature': X.columns, 'Coefficient': model.coef_})\n",
        "print(\"\\nModel Coefficients:\\n\", coefficients)\n",
        "\n",
        "# Predict sales for new data (example)\n",
        "new_data = pd.DataFrame({\n",
        "    'TV': [200],\n",
        "    'Radio': [150],\n",
        "    'Newspaper': [50]\n",
        "})\n",
        "predicted_sales = model.predict(new_data)\n",
        "print(f\"\\nPredicted Sales for New Data: {predicted_sales[0]:.2f}\")\n"
      ]
    },
    {
      "cell_type": "code",
      "source": [
        "# Create a sample dataset\n",
        "data = {\n",
        "    'TV': [230.1, 44.5, 17.2, 151.5, 180.8],\n",
        "    'Radio': [37.8, 39.3, 45.9, 41.3, 10.8],\n",
        "    'Newspaper': [69.2, 45.1, 69.3, 58.5, 58.4],\n",
        "    'Sales': [22.1, 10.4, 9.3, 18.5, 12.9]\n",
        "}\n",
        "df = pd.DataFrame(data)\n",
        "df.to_csv('Advertising.csv', index=False)\n"
      ],
      "metadata": {
        "id": "LBgFzgGlLNbq"
      },
      "execution_count": 3,
      "outputs": []
    },
    {
      "cell_type": "code",
      "source": [],
      "metadata": {
        "id": "VLhkycgzLwmG"
      },
      "execution_count": null,
      "outputs": []
    }
  ]
}